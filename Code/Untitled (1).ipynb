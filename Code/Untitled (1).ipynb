{
 "cells": [
  {
   "cell_type": "code",
   "execution_count": 9,
   "id": "6467b38b",
   "metadata": {},
   "outputs": [],
   "source": [
    "from extra_keras_datasets import emnist\n",
    "from sklearn.linear_model import LogisticRegression\n",
    "import numpy as np\n",
    "from tensorflow.keras.utils import img_to_array, load_img"
   ]
  },
  {
   "cell_type": "code",
   "execution_count": 10,
   "id": "6b52c1bb",
   "metadata": {},
   "outputs": [
    {
     "name": "stderr",
     "output_type": "stream",
     "text": [
      "INFO:root:Loading dataset = emnist\n",
      "WARNING:root:Please cite the following paper when using or referencing this Extra Keras Dataset:\n",
      "WARNING:root:Cohen, G., Afshar, S., Tapson, J., & van Schaik, A. (2017). EMNIST: an extension of MNIST to handwritten letters. Retrieved from http://arxiv.org/abs/1702.05373\n"
     ]
    },
    {
     "name": "stdout",
     "output_type": "stream",
     "text": [
      "x_train_shape = (112800, 28, 28)\n",
      "y_train_shape = (112800,)\n",
      "x_test_shape = (18800, 28, 28)\n",
      "y_test_shape = (18800,)\n"
     ]
    }
   ],
   "source": [
    "(x_train,y_train), (x_test,y_test) = emnist.load_data(type = \"balanced\")\n",
    "print(\"x_train_shape =\",x_train.shape)\n",
    "print(\"y_train_shape =\",y_train.shape)\n",
    "print(\"x_test_shape =\",x_test.shape)\n",
    "print(\"y_test_shape =\",y_test.shape)\n",
    "x_train_flat = x_train.reshape(-1, 28*28)\n",
    "x_test_flat = x_test.reshape(-1,28*28)"
   ]
  },
  {
   "cell_type": "code",
   "execution_count": 11,
   "id": "14ba8b96",
   "metadata": {},
   "outputs": [
    {
     "name": "stderr",
     "output_type": "stream",
     "text": [
      "D:\\anaconda\\lib\\site-packages\\sklearn\\linear_model\\_logistic.py:814: ConvergenceWarning: lbfgs failed to converge (status=1):\n",
      "STOP: TOTAL NO. of ITERATIONS REACHED LIMIT.\n",
      "\n",
      "Increase the number of iterations (max_iter) or scale the data as shown in:\n",
      "    https://scikit-learn.org/stable/modules/preprocessing.html\n",
      "Please also refer to the documentation for alternative solver options:\n",
      "    https://scikit-learn.org/stable/modules/linear_model.html#logistic-regression\n",
      "  n_iter_i = _check_optimize_result(\n"
     ]
    },
    {
     "data": {
      "text/plain": [
       "LogisticRegression()"
      ]
     },
     "execution_count": 11,
     "metadata": {},
     "output_type": "execute_result"
    }
   ],
   "source": [
    "model = LogisticRegression()\n",
    "model.fit(x_train_flat,y_train)"
   ]
  },
  {
   "cell_type": "code",
   "execution_count": null,
   "id": "8856246a",
   "metadata": {},
   "outputs": [],
   "source": []
  },
  {
   "cell_type": "code",
   "execution_count": null,
   "id": "3a01ae09",
   "metadata": {},
   "outputs": [],
   "source": []
  }
 ],
 "metadata": {
  "kernelspec": {
   "display_name": "Python 3 (ipykernel)",
   "language": "python",
   "name": "python3"
  },
  "language_info": {
   "codemirror_mode": {
    "name": "ipython",
    "version": 3
   },
   "file_extension": ".py",
   "mimetype": "text/x-python",
   "name": "python",
   "nbconvert_exporter": "python",
   "pygments_lexer": "ipython3",
   "version": "3.9.12"
  }
 },
 "nbformat": 4,
 "nbformat_minor": 5
}
