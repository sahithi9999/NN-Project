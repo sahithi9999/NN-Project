{
 "cells": [
  {
   "cell_type": "code",
   "execution_count": 14,
   "id": "89284ea9",
   "metadata": {},
   "outputs": [],
   "source": [
    "import tensorflow\n",
    "from tensorflow import keras"
   ]
  },
  {
   "cell_type": "code",
   "execution_count": 15,
   "id": "163a8145",
   "metadata": {},
   "outputs": [],
   "source": [
    "(x_train,y_train), (x_test,y_test) = keras.datasets.mnist.load_data()"
   ]
  },
  {
   "cell_type": "code",
   "execution_count": 16,
   "id": "1a22c0ee",
   "metadata": {},
   "outputs": [
    {
     "name": "stdout",
     "output_type": "stream",
     "text": [
      "60000 28 28\n"
     ]
    }
   ],
   "source": [
    "l,r,c = x_train.shape\n",
    "print(l,r,c)"
   ]
  },
  {
   "cell_type": "code",
   "execution_count": 17,
   "id": "d7a3b5be",
   "metadata": {},
   "outputs": [
    {
     "data": {
      "text/plain": [
       "(60000,)"
      ]
     },
     "execution_count": 17,
     "metadata": {},
     "output_type": "execute_result"
    }
   ],
   "source": [
    "y_train.shape"
   ]
  },
  {
   "cell_type": "code",
   "execution_count": 18,
   "id": "e1099f92",
   "metadata": {},
   "outputs": [
    {
     "name": "stdout",
     "output_type": "stream",
     "text": [
      "x_train_flat: (60000, 784)\n"
     ]
    }
   ],
   "source": [
    "x_train_flat = x_train.reshape(l,r*c)\n",
    "print(\"x_train_flat:\", x_train_flat.shape)"
   ]
  },
  {
   "cell_type": "code",
   "execution_count": 19,
   "id": "ebf5580d",
   "metadata": {},
   "outputs": [
    {
     "name": "stdout",
     "output_type": "stream",
     "text": [
      "x_test_flat: (10000, 784)\n"
     ]
    }
   ],
   "source": [
    "l,r,c = x_test.shape\n",
    "x_test_flat = x_test.reshape(l,r*c)\n",
    "print(\"x_test_flat:\",x_test_flat.shape)"
   ]
  },
  {
   "cell_type": "code",
   "execution_count": 20,
   "id": "772c5fa4",
   "metadata": {},
   "outputs": [],
   "source": [
    "x_train_flat = x_train_flat/255\n",
    "x_test_flat = x_test_flat/255"
   ]
  },
  {
   "cell_type": "code",
   "execution_count": 23,
   "id": "956e4482",
   "metadata": {},
   "outputs": [
    {
     "name": "stdout",
     "output_type": "stream",
     "text": [
      "Epoch 1/5\n",
      "1875/1875 [==============================] - 22s 11ms/step - loss: 0.1911 - accuracy: 0.9432\n",
      "Epoch 2/5\n",
      "1875/1875 [==============================] - 21s 11ms/step - loss: 0.0747 - accuracy: 0.9768\n",
      "Epoch 3/5\n",
      "1875/1875 [==============================] - 21s 11ms/step - loss: 0.0493 - accuracy: 0.9843\n",
      "Epoch 4/5\n",
      "1875/1875 [==============================] - 20s 11ms/step - loss: 0.0335 - accuracy: 0.9895\n",
      "Epoch 5/5\n",
      "1875/1875 [==============================] - 18s 10ms/step - loss: 0.0259 - accuracy: 0.9917\n",
      "Model: \"sequential\"\n",
      "_________________________________________________________________\n",
      " Layer (type)                Output Shape              Param #   \n",
      "=================================================================\n",
      " dense (Dense)               (None, 784)               615440    \n",
      "                                                                 \n",
      " dense_1 (Dense)             (None, 10)                7850      \n",
      "                                                                 \n",
      "=================================================================\n",
      "Total params: 623,290\n",
      "Trainable params: 623,290\n",
      "Non-trainable params: 0\n",
      "_________________________________________________________________\n"
     ]
    }
   ],
   "source": [
    "model= keras.Sequential()\n",
    "model.add(keras.layers.Dense(784,input_shape=(784, ),activation = \"relu\"))\n",
    "model.add(keras.layers.Dense(10, activation = \"sigmoid\"))\n",
    "\n",
    "model.compile(\n",
    "optimizer = \"adam\",\n",
    "loss = \"sparse_categorical_crossentropy\",\n",
    "metrics = [\"accuracy\"])\n",
    "model.fit(x_train_flat,y_train,epochs = 5)\n",
    "model.summary()"
   ]
  },
  {
   "cell_type": "code",
   "execution_count": 24,
   "id": "f970ffad",
   "metadata": {},
   "outputs": [
    {
     "name": "stdout",
     "output_type": "stream",
     "text": [
      "313/313 [==============================] - 2s 4ms/step - loss: 0.0680 - accuracy: 0.9808\n"
     ]
    },
    {
     "data": {
      "text/plain": [
       "[0.06802307814359665, 0.9807999730110168]"
      ]
     },
     "execution_count": 24,
     "metadata": {},
     "output_type": "execute_result"
    }
   ],
   "source": [
    "model.evaluate(x_test_flat,y_test)"
   ]
  },
  {
   "cell_type": "code",
   "execution_count": 25,
   "id": "b8178148",
   "metadata": {},
   "outputs": [],
   "source": [
    "import numpy as np"
   ]
  },
  {
   "cell_type": "code",
   "execution_count": 26,
   "id": "4c818821",
   "metadata": {},
   "outputs": [
    {
     "name": "stdout",
     "output_type": "stream",
     "text": [
      "1/1 [==============================] - 0s 84ms/step\n"
     ]
    },
    {
     "data": {
      "text/plain": [
       "[7, 2, 1, 0, 4, 1, 4, 9, 5, 9]"
      ]
     },
     "execution_count": 26,
     "metadata": {},
     "output_type": "execute_result"
    }
   ],
   "source": [
    "[np.argmax(arr) for arr in model.predict(x_test_flat[:10])]"
   ]
  },
  {
   "cell_type": "code",
   "execution_count": 27,
   "id": "96efe19c",
   "metadata": {},
   "outputs": [
    {
     "data": {
      "text/plain": [
       "array([7, 2, 1, 0, 4, 1, 4, 9, 5, 9], dtype=uint8)"
      ]
     },
     "execution_count": 27,
     "metadata": {},
     "output_type": "execute_result"
    }
   ],
   "source": [
    "y_test[:10]"
   ]
  },
  {
   "cell_type": "code",
   "execution_count": 28,
   "id": "e8f12dbf",
   "metadata": {},
   "outputs": [
    {
     "name": "stdout",
     "output_type": "stream",
     "text": [
      "313/313 [==============================] - 1s 3ms/step\n"
     ]
    },
    {
     "data": {
      "text/plain": [
       "<tf.Tensor: shape=(10, 10), dtype=int32, numpy=\n",
       "array([[ 972,    0,    1,    0,    1,    1,    2,    1,    2,    0],\n",
       "       [   1, 1129,    2,    1,    0,    1,    1,    0,    0,    0],\n",
       "       [   1,    1, 1015,    2,    1,    1,    2,    4,    4,    1],\n",
       "       [   0,    0,    5,  986,    0,    5,    0,    3,    3,    8],\n",
       "       [   1,    2,    5,    0,  960,    0,    2,    4,    1,    7],\n",
       "       [   3,    1,    0,   10,    1,  862,    8,    0,    5,    2],\n",
       "       [   2,    3,    0,    1,    3,    1,  946,    0,    2,    0],\n",
       "       [   1,    7,    4,    2,    0,    0,    0, 1001,    2,   11],\n",
       "       [   3,    0,    6,    3,    1,    1,    5,    2,  950,    3],\n",
       "       [   0,    8,    0,    2,    7,    2,    0,    3,    0,  987]])>"
      ]
     },
     "execution_count": 28,
     "metadata": {},
     "output_type": "execute_result"
    }
   ],
   "source": [
    "import tensorflow as tf\n",
    "\n",
    "cm = tf.math.confusion_matrix(labels = y_test, predictions = [np.argmax(arr) for arr in model.predict(x_test_flat)])\n",
    "cm"
   ]
  },
  {
   "cell_type": "code",
   "execution_count": 30,
   "id": "d38be2aa",
   "metadata": {},
   "outputs": [
    {
     "data": {
      "text/plain": [
       "Text(95.72222222222221, 0.5, 'expected')"
      ]
     },
     "execution_count": 30,
     "metadata": {},
     "output_type": "execute_result"
    },
    {
     "data": {
      "image/png": "[encoded data removed]",
      "text/plain": [
       "<Figure size 1000x800 with 2 Axes>"
      ]
     },
     "metadata": {},
     "output_type": "display_data"
    }
   ],
   "source": [
    "import seaborn as sb\n",
    "from matplotlib import pyplot as plt\n",
    "plt.figure(figsize=(10,8))\n",
    "sb.heatmap(cm, annot = True, fmt = 'd')\n",
    "plt.xlabel(\"actual\")\n",
    "plt.ylabel(\"expected\")"
   ]
  },
  {
   "cell_type": "code",
   "execution_count": null,
   "id": "b5c6e704",
   "metadata": {},
   "outputs": [],
   "source": []
  }
 ],
 "metadata": {
  "kernelspec": {
   "display_name": "Python 3 (ipykernel)",
   "language": "python",
   "name": "python3"
  },
  "language_info": {
   "codemirror_mode": {
    "name": "ipython",
    "version": 3
   },
   "file_extension": ".py",
   "mimetype": "text/x-python",
   "name": "python",
   "nbconvert_exporter": "python",
   "pygments_lexer": "ipython3",
   "version": "3.9.12"
  }
 },
 "nbformat": 4,
 "nbformat_minor": 5
}
